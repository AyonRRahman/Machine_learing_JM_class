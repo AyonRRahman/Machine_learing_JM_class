{
  "cells": [
    {
      "cell_type": "code",
      "execution_count": 146,
      "metadata": {
        "colab": {
          "base_uri": "https://localhost:8080/"
        },
        "id": "Hp1dkPx6qLqJ",
        "outputId": "f9b763cc-732a-4310-bc54-45e179ea6941"
      },
      "outputs": [
        {
          "output_type": "stream",
          "name": "stdout",
          "text": [
            "--2022-12-02 18:27:51--  https://archive.ics.uci.edu/ml/machine-learning-databases/iris/iris.data\n",
            "Resolving archive.ics.uci.edu (archive.ics.uci.edu)... 128.195.10.252\n",
            "Connecting to archive.ics.uci.edu (archive.ics.uci.edu)|128.195.10.252|:443... connected.\n",
            "HTTP request sent, awaiting response... 200 OK\n",
            "Length: 4551 (4.4K) [application/x-httpd-php]\n",
            "Saving to: ‘iris.data.2’\n",
            "\n",
            "iris.data.2         100%[===================>]   4.44K  --.-KB/s    in 0s      \n",
            "\n",
            "2022-12-02 18:27:52 (92.7 MB/s) - ‘iris.data.2’ saved [4551/4551]\n",
            "\n"
          ]
        }
      ],
      "source": [
        "#question 2 -- downloading the data and processing it\n",
        "\n",
        "#downloading the data from the given link\n",
        "!wget https://archive.ics.uci.edu/ml/machine-learning-databases/iris/iris.data\n"
      ]
    },
    {
      "cell_type": "code",
      "execution_count": 147,
      "metadata": {
        "colab": {
          "base_uri": "https://localhost:8080/",
          "height": 223
        },
        "id": "9ps7cb-I0wd4",
        "outputId": "a045ecf9-41df-43e0-8f66-6f5f81f3ddeb"
      },
      "outputs": [
        {
          "output_type": "stream",
          "name": "stdout",
          "text": [
            "50\n"
          ]
        },
        {
          "output_type": "execute_result",
          "data": {
            "text/plain": [
              "   sepal_length  sepal_width  petal_length  petal_width        class  target\n",
              "0           5.1          3.5           1.4          0.2  Iris-setosa       1\n",
              "1           4.9          3.0           1.4          0.2  Iris-setosa       1\n",
              "2           4.7          3.2           1.3          0.2  Iris-setosa       1\n",
              "3           4.6          3.1           1.5          0.2  Iris-setosa       1\n",
              "4           5.0          3.6           1.4          0.2  Iris-setosa       1"
            ],
            "text/html": [
              "\n",
              "  <div id=\"df-54a35425-1458-4f41-989f-608114ff05bb\">\n",
              "    <div class=\"colab-df-container\">\n",
              "      <div>\n",
              "<style scoped>\n",
              "    .dataframe tbody tr th:only-of-type {\n",
              "        vertical-align: middle;\n",
              "    }\n",
              "\n",
              "    .dataframe tbody tr th {\n",
              "        vertical-align: top;\n",
              "    }\n",
              "\n",
              "    .dataframe thead th {\n",
              "        text-align: right;\n",
              "    }\n",
              "</style>\n",
              "<table border=\"1\" class=\"dataframe\">\n",
              "  <thead>\n",
              "    <tr style=\"text-align: right;\">\n",
              "      <th></th>\n",
              "      <th>sepal_length</th>\n",
              "      <th>sepal_width</th>\n",
              "      <th>petal_length</th>\n",
              "      <th>petal_width</th>\n",
              "      <th>class</th>\n",
              "      <th>target</th>\n",
              "    </tr>\n",
              "  </thead>\n",
              "  <tbody>\n",
              "    <tr>\n",
              "      <th>0</th>\n",
              "      <td>5.1</td>\n",
              "      <td>3.5</td>\n",
              "      <td>1.4</td>\n",
              "      <td>0.2</td>\n",
              "      <td>Iris-setosa</td>\n",
              "      <td>1</td>\n",
              "    </tr>\n",
              "    <tr>\n",
              "      <th>1</th>\n",
              "      <td>4.9</td>\n",
              "      <td>3.0</td>\n",
              "      <td>1.4</td>\n",
              "      <td>0.2</td>\n",
              "      <td>Iris-setosa</td>\n",
              "      <td>1</td>\n",
              "    </tr>\n",
              "    <tr>\n",
              "      <th>2</th>\n",
              "      <td>4.7</td>\n",
              "      <td>3.2</td>\n",
              "      <td>1.3</td>\n",
              "      <td>0.2</td>\n",
              "      <td>Iris-setosa</td>\n",
              "      <td>1</td>\n",
              "    </tr>\n",
              "    <tr>\n",
              "      <th>3</th>\n",
              "      <td>4.6</td>\n",
              "      <td>3.1</td>\n",
              "      <td>1.5</td>\n",
              "      <td>0.2</td>\n",
              "      <td>Iris-setosa</td>\n",
              "      <td>1</td>\n",
              "    </tr>\n",
              "    <tr>\n",
              "      <th>4</th>\n",
              "      <td>5.0</td>\n",
              "      <td>3.6</td>\n",
              "      <td>1.4</td>\n",
              "      <td>0.2</td>\n",
              "      <td>Iris-setosa</td>\n",
              "      <td>1</td>\n",
              "    </tr>\n",
              "  </tbody>\n",
              "</table>\n",
              "</div>\n",
              "      <button class=\"colab-df-convert\" onclick=\"convertToInteractive('df-54a35425-1458-4f41-989f-608114ff05bb')\"\n",
              "              title=\"Convert this dataframe to an interactive table.\"\n",
              "              style=\"display:none;\">\n",
              "        \n",
              "  <svg xmlns=\"http://www.w3.org/2000/svg\" height=\"24px\"viewBox=\"0 0 24 24\"\n",
              "       width=\"24px\">\n",
              "    <path d=\"M0 0h24v24H0V0z\" fill=\"none\"/>\n",
              "    <path d=\"M18.56 5.44l.94 2.06.94-2.06 2.06-.94-2.06-.94-.94-2.06-.94 2.06-2.06.94zm-11 1L8.5 8.5l.94-2.06 2.06-.94-2.06-.94L8.5 2.5l-.94 2.06-2.06.94zm10 10l.94 2.06.94-2.06 2.06-.94-2.06-.94-.94-2.06-.94 2.06-2.06.94z\"/><path d=\"M17.41 7.96l-1.37-1.37c-.4-.4-.92-.59-1.43-.59-.52 0-1.04.2-1.43.59L10.3 9.45l-7.72 7.72c-.78.78-.78 2.05 0 2.83L4 21.41c.39.39.9.59 1.41.59.51 0 1.02-.2 1.41-.59l7.78-7.78 2.81-2.81c.8-.78.8-2.07 0-2.86zM5.41 20L4 18.59l7.72-7.72 1.47 1.35L5.41 20z\"/>\n",
              "  </svg>\n",
              "      </button>\n",
              "      \n",
              "  <style>\n",
              "    .colab-df-container {\n",
              "      display:flex;\n",
              "      flex-wrap:wrap;\n",
              "      gap: 12px;\n",
              "    }\n",
              "\n",
              "    .colab-df-convert {\n",
              "      background-color: #E8F0FE;\n",
              "      border: none;\n",
              "      border-radius: 50%;\n",
              "      cursor: pointer;\n",
              "      display: none;\n",
              "      fill: #1967D2;\n",
              "      height: 32px;\n",
              "      padding: 0 0 0 0;\n",
              "      width: 32px;\n",
              "    }\n",
              "\n",
              "    .colab-df-convert:hover {\n",
              "      background-color: #E2EBFA;\n",
              "      box-shadow: 0px 1px 2px rgba(60, 64, 67, 0.3), 0px 1px 3px 1px rgba(60, 64, 67, 0.15);\n",
              "      fill: #174EA6;\n",
              "    }\n",
              "\n",
              "    [theme=dark] .colab-df-convert {\n",
              "      background-color: #3B4455;\n",
              "      fill: #D2E3FC;\n",
              "    }\n",
              "\n",
              "    [theme=dark] .colab-df-convert:hover {\n",
              "      background-color: #434B5C;\n",
              "      box-shadow: 0px 1px 3px 1px rgba(0, 0, 0, 0.15);\n",
              "      filter: drop-shadow(0px 1px 2px rgba(0, 0, 0, 0.3));\n",
              "      fill: #FFFFFF;\n",
              "    }\n",
              "  </style>\n",
              "\n",
              "      <script>\n",
              "        const buttonEl =\n",
              "          document.querySelector('#df-54a35425-1458-4f41-989f-608114ff05bb button.colab-df-convert');\n",
              "        buttonEl.style.display =\n",
              "          google.colab.kernel.accessAllowed ? 'block' : 'none';\n",
              "\n",
              "        async function convertToInteractive(key) {\n",
              "          const element = document.querySelector('#df-54a35425-1458-4f41-989f-608114ff05bb');\n",
              "          const dataTable =\n",
              "            await google.colab.kernel.invokeFunction('convertToInteractive',\n",
              "                                                     [key], {});\n",
              "          if (!dataTable) return;\n",
              "\n",
              "          const docLinkHtml = 'Like what you see? Visit the ' +\n",
              "            '<a target=\"_blank\" href=https://colab.research.google.com/notebooks/data_table.ipynb>data table notebook</a>'\n",
              "            + ' to learn more about interactive tables.';\n",
              "          element.innerHTML = '';\n",
              "          dataTable['output_type'] = 'display_data';\n",
              "          await google.colab.output.renderOutput(dataTable, element);\n",
              "          const docLink = document.createElement('div');\n",
              "          docLink.innerHTML = docLinkHtml;\n",
              "          element.appendChild(docLink);\n",
              "        }\n",
              "      </script>\n",
              "    </div>\n",
              "  </div>\n",
              "  "
            ]
          },
          "metadata": {},
          "execution_count": 147
        }
      ],
      "source": [
        "#loading and processing the data\n",
        "\n",
        "import pandas as pd\n",
        "def load_data(filepath: str) -> pd.DataFrame:\n",
        "    \"\"\"\n",
        "    This Function reads the file containing data and returns a DataFrame.\n",
        "  \n",
        "    Parameters:\n",
        "    filepath (str): Full path to the file we are reading\n",
        "  \n",
        "    Returns:\n",
        "    pd.DataFrame: returns a DataFrame made from the filepath given.\n",
        "  \n",
        "    \"\"\"\n",
        "\n",
        "    colnames = ['sepal_length','sepal_width','petal_length','petal_width','class']\n",
        "    df = pd.read_csv(filepath, names=colnames, header=None)\n",
        "    class_value = df['class'].to_list()\n",
        "    for i in range(len(class_value)):\n",
        "        class_value[i] = 1 if class_value[i]=='Iris-setosa' else 0 \n",
        "    df['target'] = class_value\n",
        "    print(sum(class_value))\n",
        "    return df\n",
        "\n",
        "df = load_data('iris.data')\n",
        "df.head()"
      ]
    },
    {
      "cell_type": "code",
      "execution_count": 148,
      "metadata": {
        "colab": {
          "base_uri": "https://localhost:8080/"
        },
        "id": "GSLzbXcX3sw6",
        "outputId": "1fff47a8-f88d-4aa5-e90d-5e8e2ec2b4dd"
      },
      "outputs": [
        {
          "output_type": "stream",
          "name": "stdout",
          "text": [
            "(105, 6)\n",
            "(15, 6)\n",
            "(30, 6)\n",
            "150\n"
          ]
        }
      ],
      "source": [
        "#question 3 - splitting the data\n",
        "\n",
        "def split(df, train_percent = 0.7, valid_percent = 0.1, test_percent = 0.2):\n",
        "    \n",
        "    \"\"\"\n",
        "    This Function takes a DataFrame and splits it into train validation and test set \n",
        "    using stratified sampling, according to the given percentage.\n",
        "  \n",
        "    Parameters:\n",
        "    df (pd.DataFrame): The dataframe containing all the data.\n",
        "  \n",
        "    Returns:\n",
        "    train: Training dataframe\n",
        "    valid: validation Dataframe\n",
        "    test: test dataframe\n",
        "    \"\"\"\n",
        "\n",
        "    pos = df.loc[df['target'] == 1].sample(frac = 1)\n",
        "    neg = df.loc[df['target'] == 0].sample(frac = 1)\n",
        "\n",
        "    train_pos = pos.iloc[:int(train_percent*pos.shape[0])]\n",
        "    valid_pos = pos.iloc[int(train_percent*pos.shape[0]):int((train_percent+valid_percent)*pos.shape[0])]\n",
        "    test_pos = pos.iloc[int((train_percent+valid_percent)*pos.shape[0]):]\n",
        "    \n",
        "    train_neg = neg.iloc[:int(train_percent*neg.shape[0])]\n",
        "    valid_neg = neg.iloc[int(train_percent*neg.shape[0]):int((train_percent+valid_percent)*neg.shape[0])]\n",
        "    test_neg = neg.iloc[int((train_percent+valid_percent)*neg.shape[0]):]\n",
        "\n",
        "    train = pd.concat([train_pos, train_neg])\n",
        "    valid = pd.concat([valid_pos, valid_neg])\n",
        "    test = pd.concat([test_pos, test_neg])\n",
        "    return train.sample(frac = 1), valid.sample(frac = 1), test.sample(frac = 1)\n",
        "\n",
        "train, valid, test = split(df)\n",
        "\n",
        "print(train.shape)\n",
        "print(valid.shape)\n",
        "print(test.shape)\n",
        "print(train.shape[0]+valid.shape[0]+test.shape[0])\n",
        "\n"
      ]
    },
    {
      "cell_type": "code",
      "execution_count": 149,
      "metadata": {
        "id": "3i3e56XPSOOI"
      },
      "outputs": [],
      "source": [
        "# taking the subset of data we are interested in and making it a  numpy array\n",
        "import numpy as np\n",
        "\n",
        "cols = ['petal_length', 'petal_width']\n",
        "#converting all the data to array\n",
        "train_x = train[cols].astype('float').to_numpy()\n",
        "train_y = train[['target']].astype('float').to_numpy()\n",
        "valid_x = valid[cols].astype('float').to_numpy()\n",
        "valid_y = valid[['target']].astype('float').to_numpy()\n",
        "\n",
        "test_x = test[cols].astype('float').to_numpy()\n",
        "test_y = test[['target']].astype('float').to_numpy()\n",
        "\n"
      ]
    },
    {
      "cell_type": "code",
      "execution_count": 150,
      "metadata": {
        "colab": {
          "base_uri": "https://localhost:8080/",
          "height": 282
        },
        "id": "WwSBYs0SOLlm",
        "outputId": "e197674d-a6f0-427c-f8b8-fa68b30054ed"
      },
      "outputs": [
        {
          "output_type": "execute_result",
          "data": {
            "text/plain": [
              "<matplotlib.collections.PathCollection at 0x7f00fc7113d0>"
            ]
          },
          "metadata": {},
          "execution_count": 150
        },
        {
          "output_type": "display_data",
          "data": {
            "text/plain": [
              "<Figure size 432x288 with 1 Axes>"
            ],
            "image/png": "[encoded data removed]"
          },
          "metadata": {
            "needs_background": "light"
          }
        }
      ],
      "source": [
        "#plotting the data agaionst to column\n",
        "import matplotlib.pyplot as plt\n",
        "\n",
        "plt.scatter(train_x[:,0], train_x[:, 1], c=train_y)\n"
      ]
    },
    {
      "cell_type": "code",
      "execution_count": 151,
      "metadata": {
        "id": "LaWMa5CaOLln"
      },
      "outputs": [],
      "source": [
        "#question 4\n",
        "import numpy as np\n",
        "np.random.seed(42)\n",
        "\n",
        "def unison_shuffled_copies(a, b):\n",
        "    \"\"\"\n",
        "    This Function takes two numpy array and shuffles them keeping the corresponding indices same for two array.\n",
        "  \n",
        "    Parameters:\n",
        "    a (np.Array): Array to be shuffled.\n",
        "    b (np.Array): Array to be shuffled.\n",
        "    \n",
        "    Returns:\n",
        "    a: shuffled copy of a\n",
        "    b: shuffled copy of b consistent with a\n",
        "    \n",
        "    \"\"\"\n",
        "    assert len(a) == len(b)\n",
        "    p = np.random.permutation(len(a))\n",
        "    return a[p], b[p]\n",
        "\n",
        "\n",
        "def bce(y, yhat):\n",
        "    \"\"\"\n",
        "    This Function takes two numpy array and computes the binary cross entropy loss between them.\n",
        "  \n",
        "    Parameters:\n",
        "    y (np.Array): original label.\n",
        "    yhat (np.Array): Predicted Label.\n",
        "    \n",
        "    Returns:\n",
        "    loss: Binary Crossentropy loss among y and yhat\n",
        "    \n",
        "    \"\"\"\n",
        "\n",
        "    return np.mean(-(y*np.log(yhat)+(1-y)*np.log(1-yhat)))\n",
        "\n",
        "class LogisticRegressor:\n",
        "    \n",
        "    \"\"\"\n",
        "    This Class is a representation of logistic regressor.\n",
        "  \n",
        "    Attributes\n",
        "    ----------\n",
        "    n_features : int\n",
        "        number of feature the model uses to predict the output\n",
        "    params : np.array\n",
        "        parameters to learn for predicting the output \n",
        "    age : int\n",
        "        age of the person\n",
        "        \n",
        "    \"\"\"\n",
        "    \n",
        "    def __init__(self, n_features: int = 2):\n",
        "        \"\"\"\n",
        "        This Function initializes all the class parameters.\n",
        "    \n",
        "        Parameters:\n",
        "        n_features (int): number of features the classifiers going to be using\n",
        "                \n",
        "        \"\"\"\n",
        "        np.random.seed(48) #fixing the seed to have consistent result\n",
        "        self.params = np.random.randn(n_features + 1)\n",
        "        self.train_loss_series = []\n",
        "        self.valid_loss_series = []\n",
        "        \n",
        "    def logistic(self, x):\n",
        "        \"\"\"\n",
        "        This Function takes an input and computes the sigmoid function over it.\n",
        "    \n",
        "        Parameters:\n",
        "        x (np.Array or a number): input.\n",
        "        \n",
        "        Returns:\n",
        "        y: sigmoid function over input t\n",
        "        \n",
        "        \"\"\"\n",
        "\n",
        "        return 1./(1.+np.exp(-x))\n",
        "    \n",
        "    def __call__(self, x, params=None, logits=False):\n",
        "\n",
        "        \"\"\"\n",
        "        This Function uses the features and the model parameters to compute the output of the model.\n",
        "    \n",
        "        Parameters:\n",
        "        x (np.Array or a number): input features.\n",
        "        params : parameters to use for predicting the output\n",
        "        \n",
        "        Returns:\n",
        "        y: model computed prediction (probabilities) over the input features\n",
        "        \n",
        "        \"\"\"\n",
        "        if params is None:\n",
        "            params = self.params\n",
        "        y = params[0] + params[1:] @ x.T\n",
        "        if not logits:\n",
        "            y = self.logistic(y)\n",
        "        return y\n",
        "    \n",
        "    def fit(self, train_x, train_y, valid_x, valid_y, epochs: int =100, lr: float = 1e-4):\n",
        "        # TODO: train the model using gradient descent and finite-differences\n",
        "        \"\"\"\n",
        "        This Function takes the training and validation data and optimizes the model parameters over the train data.\n",
        "    \n",
        "        Parameters:\n",
        "        train_x (np.Array): training features.\n",
        "        train_y (np.Array): labels of the training data\n",
        "        valid_x (np.Array): validation features.\n",
        "        valid_y (np.Array): labels of the validation data.\n",
        "        epochs (int): number of epochs the optimizer to run.\n",
        "        lr (float): The learning rate of the optimizer.\n",
        "        \"\"\"\n",
        "        \n",
        "        self.train_loss_series = []\n",
        "        self.valid_loss_series = []\n",
        "        for epoch in range(1, epochs+1):\n",
        "            train_loss = 0\n",
        "            valid_loss = 0\n",
        "            \n",
        "            h = 0.1\n",
        "            \n",
        "            params_grad = 0\n",
        "            train_x, train_y = unison_shuffled_copies(train_x, train_y)\n",
        "            for idx, (xi, yi) in enumerate(zip(train_x, train_y)):\n",
        "                train_loss += bce(yi, self(xi))\n",
        "                \n",
        "                #computing the gradients separately for each parameters\n",
        "                params1_grads = (bce(yi, self(xi, params=self.params+np.array([h, 0 ,0]))) - bce(yi, self(xi)))/h\n",
        "                params2_grads = (bce(yi, self(xi, params=self.params+np.array([0, h ,0]))) - bce(yi, self(xi)))/h\n",
        "                params3_grads = (bce(yi, self(xi, params=self.params+np.array([0, 0 ,h]))) - bce(yi, self(xi)))/h                 \n",
        "                \n",
        "                #making an array of the gradients to subtract from the previous parameters\n",
        "                params_grads = np.array([params1_grads, params2_grads, params3_grads])\n",
        "                self.params = self.params-params_grads*lr\n",
        "                \n",
        "            #storing the training loss value\n",
        "            self.train_loss_series.append(train_loss/train_x.shape[0]) \n",
        "\n",
        "            for xi,yi in zip(valid_x, valid_y):\n",
        "                yhat = self(xi)\n",
        "                valid_loss += bce(yi, yhat)\n",
        "            \n",
        "            #storing the validation loss value\n",
        "            self.valid_loss_series.append(valid_loss/valid_x.shape[0])\n",
        "\n",
        "    def predict(self, x, logits=False):\n",
        "        \"\"\"\n",
        "        This Function uses the features and the model parameters to compute the output of the model.\n",
        "    \n",
        "        Parameters:\n",
        "        x (np.Array or a number): input features to predict on.\n",
        "        \n",
        "        Returns:\n",
        "        yhat (np.array): model computed prediction (probabilities) over the input features\n",
        "        \n",
        "        \"\"\"\n",
        "        yhat = []\n",
        "        for i in x:\n",
        "            yhat.append(self(i, logits=False))\n",
        "        return np.array(yhat)"
      ]
    },
    {
      "cell_type": "code",
      "execution_count": 152,
      "metadata": {
        "colab": {
          "base_uri": "https://localhost:8080/",
          "height": 297
        },
        "id": "y8ryimITRrxq",
        "outputId": "01b2a85c-8029-4f2d-c33b-5cd190de7da8"
      },
      "outputs": [
        {
          "output_type": "stream",
          "name": "stdout",
          "text": [
            "The classifier parameters are: [ 4.82212194 -1.39851039 -2.01249983]\n"
          ]
        },
        {
          "output_type": "display_data",
          "data": {
            "text/plain": [
              "<Figure size 432x288 with 1 Axes>"
            ],
            "image/png": "[encoded data removed]"
          },
          "metadata": {
            "needs_background": "light"
          }
        }
      ],
      "source": [
        "#question 5 - training and visualizing the loss\n",
        "import matplotlib.pyplot as plt\n",
        "\n",
        "clf = LogisticRegressor(n_features=train_x.shape[1]) # initializing the classifier\n",
        "clf.fit(train_x, train_y, valid_x, valid_y, epochs=100, lr=1e-2) #optimize the classifier\n",
        "\n",
        "print('The classifier parameters are:', clf.params)\n",
        "\n",
        "plt.plot(clf.train_loss_series, label = 'train_loss') #plot the training loss against epoch\n",
        "plt.plot(clf.valid_loss_series, label = 'valid_loss') #plot the validation loss against epoch\n",
        "plt.legend(loc = 'best')\n",
        "plt.xlabel('epoch')\n",
        "plt.ylabel('loss')\n",
        "\n",
        "yhat = clf.predict(test_x) #predict on test data\n",
        "\n",
        "'''\n",
        "in this case from the plot we can see the model almost slowed down learning after 100 epochs.\n",
        "It has not overfitted. We can predict that it has over fitted if we see something like the training loss is decreasing\n",
        "but the validation is not decreasing, rather increasing.\n",
        "But in this situation it is not the case.\n",
        "'''"
      ]
    },
    {
      "cell_type": "code",
      "execution_count": 153,
      "metadata": {
        "colab": {
          "base_uri": "https://localhost:8080/"
        },
        "id": "bopLSOfRojdE",
        "outputId": "4bac3435-0caa-4d4d-acbe-29376bfd9aeb",
        "scrolled": true
      },
      "outputs": [
        {
          "output_type": "stream",
          "name": "stdout",
          "text": [
            "[0 0 0 0 0 0 1 1 1 0 0 0 1 1 0 0 0 1 1 0 0 0 0 0 0 1 0 1 0 1]\n",
            "[[0.]\n",
            " [0.]\n",
            " [0.]\n",
            " [0.]\n",
            " [0.]\n",
            " [0.]\n",
            " [1.]\n",
            " [1.]\n",
            " [1.]\n",
            " [0.]\n",
            " [0.]\n",
            " [0.]\n",
            " [1.]\n",
            " [1.]\n",
            " [0.]\n",
            " [0.]\n",
            " [0.]\n",
            " [1.]\n",
            " [1.]\n",
            " [0.]\n",
            " [0.]\n",
            " [0.]\n",
            " [0.]\n",
            " [0.]\n",
            " [0.]\n",
            " [1.]\n",
            " [0.]\n",
            " [1.]\n",
            " [0.]\n",
            " [1.]]\n"
          ]
        }
      ],
      "source": [
        "#checking if the predictions have both classes\n",
        "print((yhat>=0.5).astype(int))  \n",
        "print(test_y)"
      ]
    },
    {
      "cell_type": "code",
      "execution_count": 154,
      "metadata": {
        "colab": {
          "base_uri": "https://localhost:8080/"
        },
        "id": "Ng5bIjaTOLlo",
        "outputId": "04830e89-2cbb-455f-f33f-2bd21b806425"
      },
      "outputs": [
        {
          "output_type": "stream",
          "name": "stdout",
          "text": [
            "TP = 10, TN = 20,FP=0, FN=0 \n"
          ]
        }
      ],
      "source": [
        "#question 6\n",
        "\n",
        "def get_measures(test_y, preds):\n",
        "    \"\"\"\n",
        "    This Function computes the true positive, true negatives, false positive and false negatives \n",
        "    from two arrays of true labels and predicted labels.\n",
        "    \n",
        "    Parameters:\n",
        "    test_y (np.Array): true labels.\n",
        "    preds (np.Array): predicted labels.\n",
        "\n",
        "    Returns:\n",
        "    TP (int): True positives \n",
        "    TN (int): True negatives\n",
        "    FP (int): False positives\n",
        "    FN (int): False negatives       \n",
        "    \"\"\"\n",
        "    \n",
        "    TP = 0\n",
        "    TN = 0\n",
        "    FP = 0\n",
        "    FN = 0\n",
        "    for i in range(test_y.shape[0]):\n",
        "        if test_y[i]==1 and preds[i]==1:\n",
        "            TP+=1\n",
        "        elif test_y[i]==0 and preds[i]==0:\n",
        "            TN+=1\n",
        "        elif test_y[i]==1 and preds[i]==0:\n",
        "            FN+=1\n",
        "        elif test_y[i]==0 and preds[i]==1:\n",
        "            FP+=1\n",
        "\n",
        "    return TP, TN, FP, FN\n",
        "\n",
        "TP, TN, FP, FN = get_measures(test_y, yhat>=0.5)\n",
        "print(f'TP = {TP}, TN = {TN},FP={FP}, FN={FN} ')"
      ]
    },
    {
      "cell_type": "code",
      "execution_count": 163,
      "metadata": {
        "colab": {
          "base_uri": "https://localhost:8080/"
        },
        "id": "YO0Pr2-rOLlp",
        "outputId": "aee12f76-4941-4a63-82fd-12f3f37713e7"
      },
      "outputs": [
        {
          "output_type": "stream",
          "name": "stdout",
          "text": [
            "Precision:  1.0\n",
            "Recall:  1.0\n",
            "F1_score:  1.0\n"
          ]
        }
      ],
      "source": [
        "#question 7 - Calculate the precision and recall and F1 score\n",
        "\n",
        "def precision(y, yhat):\n",
        "    # calculate the precision and return it\n",
        "    \"\"\"\n",
        "    This Function computes the precision from two arrays of true labels and predicted labels.\n",
        "    \n",
        "    Parameters:\n",
        "    y (np.Array): true labels.\n",
        "    yhat (np.Array): predicted labels.\n",
        "\n",
        "    Returns:\n",
        "    precision (float): the precision       \n",
        "    \"\"\"\n",
        "\n",
        "    TP, TN, FP, FN = get_measures(y, yhat)\n",
        "    return TP/(TP+FP)\n",
        "\n",
        "def recall(y, yhat):\n",
        "    # calculate the recall and return it\n",
        "    \"\"\"\n",
        "    This Function computes the recall from two arrays of true labels and predicted labels.\n",
        "    \n",
        "    Parameters:\n",
        "    y (np.Array): true labels.\n",
        "    yhat (np.Array): predicted labels.\n",
        "\n",
        "    Returns:\n",
        "    recall (float): the recall       \n",
        "    \"\"\"\n",
        "    \n",
        "    TP, TN, FP, FN = get_measures(y, yhat)\n",
        "    return TP/(TP+FN)\n",
        "\n",
        "def f_beta(y, yhat, beta=1):\n",
        "    \"\"\"\n",
        "    This Function computes the recall from two arrays of true labels and predicted labels.\n",
        "    \n",
        "    Parameters:\n",
        "    y (np.Array): true labels.\n",
        "    yhat (np.Array): predicted labels.\n",
        "    beta (int): optional parameter if anyone wants to change the metric from f1. \n",
        "    Returns:\n",
        "    F1 score (float): the recall       \n",
        "    \"\"\"\n",
        "\n",
        "    #get the precision and recall values\n",
        "    pr = precision(y, yhat>=0.5)\n",
        "    rc = recall(y, yhat>=0.5)\n",
        "    \n",
        "    # calculate the f_beta score and return it\n",
        "    \n",
        "    f = (1+beta**2) * (pr*rc)/(pr*beta**2 + rc)\n",
        "    return f\n",
        "\n",
        "#print the metrics\n",
        "\n",
        "pr = precision(test_y, yhat>=0.5)\n",
        "rc = recall(test_y, yhat>=0.5)\n",
        "F1_Score = f_beta(test_y, yhat)\n",
        "\n",
        "\n",
        "print('Precision: ',pr)\n",
        "print('Recall: ',rc)\n",
        "print('F1_score: ',F1_Score)\n"
      ]
    },
    {
      "cell_type": "code",
      "execution_count": 156,
      "metadata": {
        "colab": {
          "base_uri": "https://localhost:8080/"
        },
        "id": "YBAB1b4FOLlp",
        "outputId": "f1cf3acc-81b0-462e-8029-c4c508eaa602"
      },
      "outputs": [
        {
          "output_type": "stream",
          "name": "stdout",
          "text": [
            "|         |         |Predicted|         |\n",
            "|         |         |Positive |Negative |\n",
            "|Actual   |Positive |10       |0        |\n",
            "|         |Negative |0        |20       |\n",
            "\n",
            "-Precision: 1.0\n",
            "-Recall: 1.0\n",
            "-Recall: 1.0\n"
          ]
        }
      ],
      "source": [
        "#Question 8 -- Generating a report\n",
        "\n",
        "sp = ' '\n",
        "print(f'|{sp:<9}|{sp:<9}|Predicted|{sp:<9}|')\n",
        "\n",
        "print(f'|{sp:<9}|{sp:<9}|Positive |Negative |')\n",
        "\n",
        "print(f'|Actual   |Positive |{TP:<9}|{FN:<9}|')\n",
        "\n",
        "print(f'|{sp:<9}|Negative |{FP:<9}|{TN:<9}|')\n",
        "print()\n",
        "print(f'-Precision: {pr}')\n",
        "print(f'-Recall: {rc}')\n",
        "print(f'-Recall: {f_beta(test_y,yhat)}')"
      ]
    },
    {
      "cell_type": "code",
      "execution_count": 157,
      "metadata": {
        "colab": {
          "base_uri": "https://localhost:8080/",
          "height": 282
        },
        "id": "nhM-S1_sOLlp",
        "outputId": "f55d38fc-e37e-450f-b119-3ea4e60d62d3"
      },
      "outputs": [
        {
          "output_type": "execute_result",
          "data": {
            "text/plain": [
              "[<matplotlib.lines.Line2D at 0x7f00fc736e50>]"
            ]
          },
          "metadata": {},
          "execution_count": 157
        },
        {
          "output_type": "display_data",
          "data": {
            "text/plain": [
              "<Figure size 432x288 with 1 Axes>"
            ],
            "image/png": "[encoded data removed]"
          },
          "metadata": {
            "needs_background": "light"
          }
        }
      ],
      "source": [
        "#9 Question 9 -- ROC curve.\n",
        "\n",
        "\n",
        "def roc(y, yhat, threshold_step=0.01):\n",
        "    \n",
        "    \"\"\"\n",
        "    This Function computes the True positive and false positive rates to create roc curve \n",
        "    from two arrays of true labels and predicted labels.\n",
        "    \n",
        "    Parameters:\n",
        "    y (np.Array): true labels.\n",
        "    yhat (np.Array): predicted labels.\n",
        "    threshold_step (flaot): iteratively increase the threshold by threshold_step \n",
        "    \n",
        "    Returns:\n",
        "    tpr (list): true positive rate\n",
        "    fpr (list): false positive rate       \n",
        "    \"\"\"\n",
        "\n",
        "    # iteratively increase the threshold by threshold_step,\n",
        "    # calculating the TP and FP rate for each iteration. This function\n",
        "    # should return two lists, a list of TP rates, and a list of FP\n",
        "    # rates.\n",
        "    \n",
        "    tpr = []\n",
        "    fpr = []\n",
        "    for i in np.arange(0.001, 1, threshold_step):\n",
        "        TP, TN, FP, FN = get_measures(y, yhat>=i)\n",
        "        tpr.append(TP/(TP+FN))\n",
        "        fpr.append(FP/(FP+TN))\n",
        "    return tpr, fpr\n",
        "\n",
        "\n",
        "tpr, fpr = roc(test_y, yhat)\n",
        "\n",
        "# visualise the ROC curve here\n",
        "plt.plot(fpr, tpr)"
      ]
    },
    {
      "cell_type": "code",
      "execution_count": 158,
      "metadata": {
        "colab": {
          "base_uri": "https://localhost:8080/",
          "height": 285
        },
        "id": "78xd-YT6OLlp",
        "outputId": "ef1e1b12-5450-47e8-837c-7f3bc8480ecd"
      },
      "outputs": [
        {
          "output_type": "execute_result",
          "data": {
            "text/plain": [
              "<matplotlib.collections.PathCollection at 0x7f00fe3e81c0>"
            ]
          },
          "metadata": {},
          "execution_count": 158
        },
        {
          "output_type": "display_data",
          "data": {
            "text/plain": [
              "<Figure size 432x288 with 1 Axes>"
            ],
            "image/png": "[encoded data removed]"
          },
          "metadata": {
            "needs_background": "light"
          }
        }
      ],
      "source": [
        "#Question 10 -- selecting data\n",
        "#selecting the other two columns for the same thing\n",
        "\n",
        "cols = ['sepal_length','sepal_width']\n",
        "train_x = train[cols].astype('float').to_numpy()\n",
        "train_y = train[['target']].astype('float').to_numpy()\n",
        "valid_x = valid[cols].astype('float').to_numpy()\n",
        "valid_y = valid[['target']].astype('float').to_numpy()\n",
        "\n",
        "test_x = test[cols].astype('float').to_numpy()\n",
        "test_y = test[['target']].astype('float').to_numpy()\n",
        "\n",
        "\n",
        "plt.scatter(train_x[:,0], train_x[:, 1], c=train_y)"
      ]
    },
    {
      "cell_type": "code",
      "source": [
        "#Question 10 -- training the model with new data\n",
        "\n",
        "clf = LogisticRegressor(n_features=train_x.shape[1])\n",
        "clf.fit(train_x, train_y, valid_x, valid_y, epochs=100, lr = 1e-2)\n",
        "yhat = clf.predict(test_x)\n",
        "\n",
        "plt.plot(clf.train_loss_series, label = 'train_loss')\n",
        "plt.plot(clf.valid_loss_series, label = 'valid_loss')\n",
        "\n",
        "plt.legend(loc = 'best')\n",
        "TP, TN, FP, FN = get_measures(test_y, yhat>=0.5)\n",
        "print(f'TP = {TP}, TN = {TN},FP={FP}, FN={FN} ')\n",
        "\n",
        "pr = precision(test_y, yhat>=0.5)\n",
        "rc = recall(test_y, yhat>=0.5)\n",
        "\n",
        "print('Precision',pr)\n",
        "print('Recall',rc)\n",
        "print(f_beta(test_y, yhat))"
      ],
      "metadata": {
        "colab": {
          "base_uri": "https://localhost:8080/",
          "height": 334
        },
        "id": "2icIdEBXSUmq",
        "outputId": "6303e117-1139-420a-daf6-6c506bfebb1c"
      },
      "execution_count": 159,
      "outputs": [
        {
          "output_type": "stream",
          "name": "stdout",
          "text": [
            "TP = 10, TN = 20,FP=0, FN=0 \n",
            "Precision 1.0\n",
            "Recall 1.0\n",
            "1.0\n"
          ]
        },
        {
          "output_type": "display_data",
          "data": {
            "text/plain": [
              "<Figure size 432x288 with 1 Axes>"
            ],
            "image/png": "[encoded data removed]"
          },
          "metadata": {
            "needs_background": "light"
          }
        }
      ]
    },
    {
      "cell_type": "code",
      "source": [
        "#Question 10 -- Generating a report for the new classifier\n",
        "\n",
        "sp = ' '\n",
        "print(f'|{sp:<9}|{sp:<9}|Predicted|{sp:<9}|')\n",
        "\n",
        "print(f'|{sp:<9}|{sp:<9}|Positive |Negative |')\n",
        "\n",
        "print(f'|Actual   |Positive |{TP:<9}|{FN:<9}|')\n",
        "\n",
        "print(f'|{sp:<9}|Negative |{FP:<9}|{TN:<9}|')\n",
        "print()\n",
        "print(f'-Precision: {pr}')\n",
        "print(f'-Recall: {rc}')\n",
        "print(f'-Recall: {f_beta(test_y,yhat)}')\n",
        "\n",
        "tp, fp = roc(test_y, yhat)\n",
        "# visualise the ROC curve here\n",
        "plt.plot(fp, tp)\n",
        "\n",
        "\n",
        "'''\n",
        "from this confusion matrix and the previous one we can see,\n",
        "for both of them the evaluation metrics are same. so we cannot say one model is better than the other one.\n",
        "'''"
      ],
      "metadata": {
        "colab": {
          "base_uri": "https://localhost:8080/",
          "height": 421
        },
        "id": "0L0aqugWSkNX",
        "outputId": "ced42af3-a9ac-4263-f18b-ef9d9d574886"
      },
      "execution_count": 160,
      "outputs": [
        {
          "output_type": "stream",
          "name": "stdout",
          "text": [
            "|         |         |Predicted|         |\n",
            "|         |         |Positive |Negative |\n",
            "|Actual   |Positive |10       |0        |\n",
            "|         |Negative |0        |20       |\n",
            "\n",
            "-Precision: 1.0\n",
            "-Recall: 1.0\n",
            "-Recall: 1.0\n"
          ]
        },
        {
          "output_type": "execute_result",
          "data": {
            "text/plain": [
              "[<matplotlib.lines.Line2D at 0x7f00fcfb5b20>]"
            ]
          },
          "metadata": {},
          "execution_count": 160
        },
        {
          "output_type": "display_data",
          "data": {
            "text/plain": [
              "<Figure size 432x288 with 1 Axes>"
            ],
            "image/png": "[encoded data removed]"
          },
          "metadata": {
            "needs_background": "light"
          }
        }
      ]
    }
  ],
  "metadata": {
    "colab": {
      "provenance": []
    },
    "kernelspec": {
      "display_name": "Python 3 (ipykernel)",
      "language": "python",
      "name": "python3"
    },
    "language_info": {
      "codemirror_mode": {
        "name": "ipython",
        "version": 3
      },
      "file_extension": ".py",
      "mimetype": "text/x-python",
      "name": "python",
      "nbconvert_exporter": "python",
      "pygments_lexer": "ipython3",
      "version": "3.9.12"
    }
  },
  "nbformat": 4,
  "nbformat_minor": 0
}